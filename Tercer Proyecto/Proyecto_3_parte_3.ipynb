{
 "cells": [
  {
   "cell_type": "code",
   "execution_count": 1,
   "metadata": {},
   "outputs": [],
   "source": [
    "import pandas as pd\n",
    "import numpy as np\n",
    "import plotly.express as px\n",
    "import statsmodels.formula.api as smf\n",
    "from sklearn.linear_model import LinearRegression\n",
    "import matplotlib.pyplot as plt\n",
    "import seaborn as sns\n",
    "from scipy.stats import trim_mean, mode, skew, gaussian_kde, pearsonr, spearmanr, beta\n",
    "from statsmodels.stats.weightstats import ztest as ztest\n",
    "from scipy import stats\n",
    "from statsmodels.stats.proportion import proportions_ztest\n",
    "from sklearn.model_selection import train_test_split\n",
    "\n",
    "from scipy.stats import ttest_ind, norm, t, mannwhitneyu\n",
    "\n",
    "from scipy.stats import ttest_ind\n",
    "from statsmodels.stats.proportion import proportions_ztest\n",
    "\n",
    "from scipy.stats import f_oneway\n",
    "from scipy.stats import sem"
   ]
  },
  {
   "cell_type": "markdown",
   "metadata": {},
   "source": [
    "### Creación del DataFrame a utilizar"
   ]
  },
  {
   "cell_type": "code",
   "execution_count": 2,
   "metadata": {},
   "outputs": [
    {
     "data": {
      "text/html": [
       "<div>\n",
       "<style scoped>\n",
       "    .dataframe tbody tr th:only-of-type {\n",
       "        vertical-align: middle;\n",
       "    }\n",
       "\n",
       "    .dataframe tbody tr th {\n",
       "        vertical-align: top;\n",
       "    }\n",
       "\n",
       "    .dataframe thead th {\n",
       "        text-align: right;\n",
       "    }\n",
       "</style>\n",
       "<table border=\"1\" class=\"dataframe\">\n",
       "  <thead>\n",
       "    <tr style=\"text-align: right;\">\n",
       "      <th></th>\n",
       "      <th>order_id</th>\n",
       "      <th>activation_time_local</th>\n",
       "      <th>country_code</th>\n",
       "      <th>store_address</th>\n",
       "      <th>final_status</th>\n",
       "      <th>payment_status</th>\n",
       "      <th>products</th>\n",
       "      <th>products_total</th>\n",
       "      <th>purchase_total_price</th>\n",
       "    </tr>\n",
       "  </thead>\n",
       "  <tbody>\n",
       "    <tr>\n",
       "      <th>0</th>\n",
       "      <td>33557880</td>\n",
       "      <td>2019-03-10 23:59:59.000000</td>\n",
       "      <td>AR</td>\n",
       "      <td>14200</td>\n",
       "      <td>DeliveredStatus</td>\n",
       "      <td>PAID</td>\n",
       "      <td>1</td>\n",
       "      <td>4.54</td>\n",
       "      <td>8.64</td>\n",
       "    </tr>\n",
       "    <tr>\n",
       "      <th>1</th>\n",
       "      <td>33512615</td>\n",
       "      <td>2019-03-10 23:58:32.000000</td>\n",
       "      <td>TR</td>\n",
       "      <td>28725</td>\n",
       "      <td>DeliveredStatus</td>\n",
       "      <td>PAID</td>\n",
       "      <td>1</td>\n",
       "      <td>3.76</td>\n",
       "      <td>3.76</td>\n",
       "    </tr>\n",
       "    <tr>\n",
       "      <th>2</th>\n",
       "      <td>33512451</td>\n",
       "      <td>2019-03-10 23:57:56.000000</td>\n",
       "      <td>TR</td>\n",
       "      <td>28725</td>\n",
       "      <td>DeliveredStatus</td>\n",
       "      <td>PAID</td>\n",
       "      <td>1</td>\n",
       "      <td>2.86</td>\n",
       "      <td>2.86</td>\n",
       "    </tr>\n",
       "    <tr>\n",
       "      <th>3</th>\n",
       "      <td>33530892</td>\n",
       "      <td>2019-03-10 23:57:33.000000</td>\n",
       "      <td>ES</td>\n",
       "      <td>19777</td>\n",
       "      <td>CanceledStatus</td>\n",
       "      <td>PAID</td>\n",
       "      <td>1</td>\n",
       "      <td>12.95</td>\n",
       "      <td>0.00</td>\n",
       "    </tr>\n",
       "    <tr>\n",
       "      <th>4</th>\n",
       "      <td>33557765</td>\n",
       "      <td>2019-03-10 23:57:21.000000</td>\n",
       "      <td>AR</td>\n",
       "      <td>34565</td>\n",
       "      <td>DeliveredStatus</td>\n",
       "      <td>PAID</td>\n",
       "      <td>2</td>\n",
       "      <td>2.86</td>\n",
       "      <td>6.48</td>\n",
       "    </tr>\n",
       "  </tbody>\n",
       "</table>\n",
       "</div>"
      ],
      "text/plain": [
       "   order_id       activation_time_local country_code  store_address   \n",
       "0  33557880  2019-03-10 23:59:59.000000           AR          14200  \\\n",
       "1  33512615  2019-03-10 23:58:32.000000           TR          28725   \n",
       "2  33512451  2019-03-10 23:57:56.000000           TR          28725   \n",
       "3  33530892  2019-03-10 23:57:33.000000           ES          19777   \n",
       "4  33557765  2019-03-10 23:57:21.000000           AR          34565   \n",
       "\n",
       "      final_status payment_status  products  products_total   \n",
       "0  DeliveredStatus           PAID         1            4.54  \\\n",
       "1  DeliveredStatus           PAID         1            3.76   \n",
       "2  DeliveredStatus           PAID         1            2.86   \n",
       "3   CanceledStatus           PAID         1           12.95   \n",
       "4  DeliveredStatus           PAID         2            2.86   \n",
       "\n",
       "   purchase_total_price  \n",
       "0                  8.64  \n",
       "1                  3.76  \n",
       "2                  2.86  \n",
       "3                  0.00  \n",
       "4                  6.48  "
      ]
     },
     "execution_count": 2,
     "metadata": {},
     "output_type": "execute_result"
    }
   ],
   "source": [
    "fake_orders_test = pd.read_csv(\"C:\\\\Users\\\\esteb\\\\OneDrive\\\\Escritorio\\\\Data_Analytics_Iron_Hack\\\\Tercer Proyecto\\\\project_dataset\\\\python_raw_data\\\\fake_orders_test.csv\")\n",
    "fake_orders_test.head()"
   ]
  },
  {
   "cell_type": "markdown",
   "metadata": {},
   "source": [
    "Simular los grupos de control y prueba"
   ]
  },
  {
   "cell_type": "code",
   "execution_count": 3,
   "metadata": {},
   "outputs": [],
   "source": [
    "# Creamos una columna de tarifa de entrega y asignamos el valor inicial a 1.9\n",
    "fake_orders_test['delivery_fee'] = 1.9\n",
    "\n",
    "# Dividimos en grupos de control (tarifa de entrega de €1.9) y prueba (tarifa de entrega de €2.1)\n",
    "control_group, test_group = train_test_split(fake_orders_test, test_size=0.5, random_state=42)\n",
    "test_group['delivery_fee'] = 2.1  # Ajuste de la tarifa de entrega para el grupo de prueba\n",
    "\n",
    "# Concatenamos ambos grupos para futuras comparaciones\n",
    "experiment_data = pd.concat([control_group, test_group])\n",
    "\n"
   ]
  },
  {
   "cell_type": "markdown",
   "metadata": {},
   "source": [
    "#### Cálculo del tamaño de muestra y duración del experimento"
   ]
  },
  {
   "cell_type": "code",
   "execution_count": 4,
   "metadata": {},
   "outputs": [
    {
     "name": "stdout",
     "output_type": "stream",
     "text": [
      "El tamaño de muestra requerido por grupo es aproximadamente: 5275\n"
     ]
    }
   ],
   "source": [
    "# Definimos los parámetros del experimento\n",
    "alpha = 0.05  # Nivel de significancia\n",
    "power = 0.8  # Poder estadístico\n",
    "baseline_conversion_rate = 0.15  # Supuesto de tasa de conversión base\n",
    "mde = 0.02  # Cambio mínimo detectable en la tasa de conversión\n",
    "\n",
    "# Cálculo del tamaño de muestra\n",
    "z_alpha = norm.ppf(1 - alpha / 2)\n",
    "z_beta = norm.ppf(power)\n",
    "pooled_prob = (baseline_conversion_rate + (baseline_conversion_rate + mde)) / 2\n",
    "sample_size = (2 * (z_alpha + z_beta)**2 * pooled_prob * (1 - pooled_prob)) / mde**2\n",
    "sample_size = int(np.ceil(sample_size))\n",
    "\n",
    "print(f\"El tamaño de muestra requerido por grupo es aproximadamente: {sample_size}\")\n",
    "\n"
   ]
  },
  {
   "cell_type": "markdown",
   "metadata": {},
   "source": [
    "### Selección de KPIs\n",
    "\n",
    "Los KPIs incluyen:\n",
    "\n",
    "    Tasa de conversión (conversion_rate): Número de pedidos completados.\n",
    "    Valor promedio del pedido (AOV): Promedio de la columna purchase_total_price."
   ]
  },
  {
   "cell_type": "markdown",
   "metadata": {},
   "source": [
    "###  Análisis de los resultados"
   ]
  },
  {
   "cell_type": "code",
   "execution_count": 5,
   "metadata": {},
   "outputs": [
    {
     "name": "stdout",
     "output_type": "stream",
     "text": [
      "Tasa de conversión - Control: 0.8936092715231788, Prueba: 0.8912582781456954\n",
      "AOV - Control: 10.722553973509934, Prueba: 10.684340728476823\n",
      "Prueba t para AOV entre control y prueba: t=0.4355268769818101, p=0.6631815911166689\n",
      "Prueba Z para tasa de conversión: z=0.9324250151314253, p=0.3511169219997061\n"
     ]
    }
   ],
   "source": [
    "\n",
    "# Calculamos la tasa de conversión y el AOV para cada grupo\n",
    "control_conversion_rate = control_group['final_status'].value_counts(normalize=True).get('DeliveredStatus', 0)\n",
    "test_conversion_rate = test_group['final_status'].value_counts(normalize=True).get('DeliveredStatus', 0)\n",
    "\n",
    "control_aov = control_group['purchase_total_price'].mean()\n",
    "test_aov = test_group['purchase_total_price'].mean()\n",
    "\n",
    "print(f\"Tasa de conversión - Control: {control_conversion_rate}, Prueba: {test_conversion_rate}\")\n",
    "print(f\"AOV - Control: {control_aov}, Prueba: {test_aov}\")\n",
    "\n",
    "# Pruebas de hipótesis para comparar la conversion_rate y el AOV\n",
    "t_stat, p_value = ttest_ind(control_group['purchase_total_price'], test_group['purchase_total_price'], equal_var=False)\n",
    "print(f\"Prueba t para AOV entre control y prueba: t={t_stat}, p={p_value}\")\n",
    "\n",
    "\n",
    "# Prueba de proporciones para comparar la conversion_rate\n",
    "successes = [control_group['final_status'].eq('DeliveredStatus').sum(), test_group['final_status'].eq('DeliveredStatus').sum()]\n",
    "nobs = [len(control_group), len(test_group)]\n",
    "z_stat, p_value_conversion = proportions_ztest(successes, nobs)\n",
    "print(f\"Prueba Z para tasa de conversión: z={z_stat}, p={p_value_conversion}\")\n"
   ]
  },
  {
   "cell_type": "code",
   "execution_count": 6,
   "metadata": {},
   "outputs": [
    {
     "data": {
      "image/png": "[encoded data removed]",
      "text/plain": [
       "<Figure size 1200x500 with 2 Axes>"
      ]
     },
     "metadata": {},
     "output_type": "display_data"
    }
   ],
   "source": [
    "# Creamos un DataFrame con los resultados para facilitar la visualización\n",
    "results_df = pd.DataFrame({\n",
    "    'Grupo': ['Control', 'Prueba'],\n",
    "    'Tasa de Conversión': [control_conversion_rate, test_conversion_rate],\n",
    "    'AOV': [control_aov, test_aov]\n",
    "})\n",
    "\n",
    "# Configuramos el estilo del gráfico\n",
    "sns.set(style=\"whitegrid\")\n",
    "fig, axes = plt.subplots(1, 2, figsize=(12, 5))\n",
    "\n",
    "# Gráfico de barras para la tasa de conversión\n",
    "sns.barplot(data=results_df, x='Grupo', y='Tasa de Conversión', ax=axes[0], palette=\"Blues\")\n",
    "axes[0].set_title(\"Tasa de Conversión por Grupo\")\n",
    "axes[0].set_ylim(0, 1)\n",
    "axes[0].set_ylabel(\"Tasa de Conversión\")\n",
    "\n",
    "# Gráfico de barras para el AOV\n",
    "sns.barplot(data=results_df, x='Grupo', y='AOV', ax=axes[1], palette=\"Greens\")\n",
    "axes[1].set_title(\"Valor Promedio del Pedido (AOV) por Grupo\")\n",
    "axes[1].set_ylabel(\"AOV (€)\")\n",
    "\n",
    "\n",
    "plt.tight_layout()\n",
    "plt.show()"
   ]
  },
  {
   "cell_type": "markdown",
   "metadata": {},
   "source": [
    "#### Análisis y recomendaciones\n"
   ]
  },
  {
   "cell_type": "markdown",
   "metadata": {},
   "source": [
    "La tasa de conversión es prácticamente la misma en ambos grupos (89.36% en el grupo de control y 89.13% en el grupo de prueba). La prueba Z de diferencia de proporciones muestra un valor p de 0.351, que es superior al umbral de significancia comúnmente usado (0.05). Esto indica que no hay una diferencia estadísticamente significativa en la tasa de conversión entre los grupos.\n",
    "\n",
    "El AOV también es muy similar entre ambos grupos (10.72€ para el grupo de control y 10.68€ para el grupo de prueba). La prueba t para el AOV da un valor p de 0.663, que también es muy superior al 0.05. Esto sugiere que el cambio en la tarifa de entrega no afecta significativamente el valor promedio de los pedidos.\n",
    "\n",
    "\n",
    "\n",
    "Dado que no encontramos una diferencia significativa en la tasa de conversión ni en el valor promedio de los pedidos, se puede concluir que el aumento en la tarifa de entrega de €1.9 a €2.1 no afectó de forma negativa los principales KPIs analizados. Esto indica que el aumento es viable desde una perspectiva de impacto en los KPIs de ventas, por lo que podemos considerar implementar el aumento de tarifa, ya que no se observan impactos negativos significativos en los comportamientos de compra en el análisis actual."
   ]
  }
 ],
 "metadata": {
  "kernelspec": {
   "display_name": "Python 3",
   "language": "python",
   "name": "python3"
  },
  "language_info": {
   "codemirror_mode": {
    "name": "ipython",
    "version": 3
   },
   "file_extension": ".py",
   "mimetype": "text/x-python",
   "name": "python",
   "nbconvert_exporter": "python",
   "pygments_lexer": "ipython3",
   "version": "3.10.0"
  }
 },
 "nbformat": 4,
 "nbformat_minor": 2
}
